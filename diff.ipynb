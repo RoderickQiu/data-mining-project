{
 "cells": [
  {
   "cell_type": "code",
   "execution_count": 1,
   "id": "dd0db296",
   "metadata": {},
   "outputs": [],
   "source": [
    "import pandas as pd\n",
    "\n",
    "# 1. 加载数据\n",
    "df = pd.read_csv(\"riiid-test-answer-prediction/train.csv\")\n",
    "df = df[df['content_type_id'] == 0]  # 只保留题目部分\n",
    "\n",
    "# 2. 计算题目难度：P = R / N\n",
    "difficulty = df.groupby(\"content_id\")[\"answered_correctly\"].agg([\"mean\", \"count\"])\n",
    "difficulty.columns = [\"difficulty\", \"total_responses\"]\n",
    "\n",
    "# 3. 计算用户的总体准确率（代表能力）\n",
    "user_score = df.groupby(\"user_id\")[\"answered_correctly\"].mean().reset_index()\n",
    "user_score.columns = [\"user_id\", \"user_accuracy\"]\n",
    "df = df.merge(user_score, on=\"user_id\", how=\"left\")\n",
    "\n",
    "# 4. 极端组法：按 user_accuracy 排序分组（前27%高分组，后27%低分组）\n",
    "high_threshold = user_score[\"user_accuracy\"].quantile(0.73)\n",
    "low_threshold = user_score[\"user_accuracy\"].quantile(0.27)\n",
    "\n",
    "df[\"group\"] = df[\"user_accuracy\"].apply(lambda x: \"high\" if x >= high_threshold else (\"low\" if x <= low_threshold else \"mid\"))\n",
    "high_group = df[df[\"group\"] == \"high\"]\n",
    "low_group = df[df[\"group\"] == \"low\"]\n",
    "\n",
    "# 5. 计算区分度 D = P_high - P_low\n",
    "high_acc = high_group.groupby(\"content_id\")[\"answered_correctly\"].mean()\n",
    "low_acc = low_group.groupby(\"content_id\")[\"answered_correctly\"].mean()\n",
    "discrimination = (high_acc - low_acc).reset_index()\n",
    "discrimination.columns = [\"content_id\", \"discrimination\"]\n",
    "\n",
    "# 6. 合并难度与区分度结果\n",
    "question_analysis = difficulty.reset_index().merge(discrimination, on=\"content_id\", how=\"left\")\n",
    "\n",
    "# 7. 标注题目分类（可选）\n",
    "question_analysis[\"quality_flag\"] = question_analysis.apply(\n",
    "    lambda row: \"推荐\" if 0.3 <= row[\"difficulty\"] <= 0.7 and row[\"discrimination\"] >= 0.3 else \"需审查\", axis=1\n",
    ")\n",
    "\n",
    "# 8. 导出结果\n",
    "question_analysis.to_csv(\"question_difficulty_discrimination.csv\", index=False)\n"
   ]
  },
  {
   "cell_type": "code",
   "execution_count": null,
   "id": "199dbebc",
   "metadata": {},
   "outputs": [],
   "source": []
  }
 ],
 "metadata": {
  "kernelspec": {
   "display_name": "Python (myenv)",
   "language": "python",
   "name": "myenv"
  },
  "language_info": {
   "codemirror_mode": {
    "name": "ipython",
    "version": 3
   },
   "file_extension": ".py",
   "mimetype": "text/x-python",
   "name": "python",
   "nbconvert_exporter": "python",
   "pygments_lexer": "ipython3",
   "version": "3.12.4"
  }
 },
 "nbformat": 4,
 "nbformat_minor": 5
}
